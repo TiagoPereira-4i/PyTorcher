{
 "cells": [
  {
   "cell_type": "code",
   "execution_count": 2,
   "metadata": {},
   "outputs": [],
   "source": [
    "import torch\n",
    "from torch import nn\n",
    "from torch.utils.data import DataLoader\n",
    "from torchvision import datasets\n",
    "from torchvision.transforms import ToTensor, Lambda"
   ]
  },
  {
   "cell_type": "markdown",
   "metadata": {},
   "source": [
    "### Loading the dataset"
   ]
  },
  {
   "cell_type": "code",
   "execution_count": 3,
   "metadata": {},
   "outputs": [],
   "source": [
    "training_data = datasets.FashionMNIST(\n",
    "    root=\"data/mnist\",\n",
    "    train=True,\n",
    "    download=True,\n",
    "    transform=ToTensor()\n",
    ")\n",
    "\n",
    "test_data = datasets.FashionMNIST(\n",
    "    root=\"data/mnist\",\n",
    "    train=False,\n",
    "    download=True,\n",
    "    transform=ToTensor()\n",
    ")"
   ]
  },
  {
   "cell_type": "code",
   "execution_count": 4,
   "metadata": {},
   "outputs": [],
   "source": [
    "train_dataloader = DataLoader(training_data, batch_size=64)\n",
    "test_dataloader = DataLoader(test_data, batch_size=64)"
   ]
  },
  {
   "cell_type": "markdown",
   "metadata": {},
   "source": [
    "### Creating the model class"
   ]
  },
  {
   "cell_type": "code",
   "execution_count": 5,
   "metadata": {},
   "outputs": [],
   "source": [
    "class NeuralNetwork(nn.Module):\n",
    "    def __init__(self):\n",
    "        super(NeuralNetwork, self).__init__()\n",
    "        self.flatten = nn.Flatten()\n",
    "        self.linear_relu_stack = nn.Sequential(\n",
    "            nn.Linear(28*28, 512),\n",
    "            nn.ReLU(),\n",
    "            nn.Linear(512, 512),\n",
    "            nn.ReLU(),\n",
    "            nn.Linear(512, 10),\n",
    "        )\n",
    "\n",
    "    def forward(self, x):\n",
    "        x = self.flatten(x)\n",
    "        logits = self.linear_relu_stack(x)\n",
    "        return logits"
   ]
  },
  {
   "cell_type": "markdown",
   "metadata": {},
   "source": [
    "### Calling the model"
   ]
  },
  {
   "cell_type": "code",
   "execution_count": 6,
   "metadata": {},
   "outputs": [],
   "source": [
    "model = NeuralNetwork()"
   ]
  },
  {
   "cell_type": "markdown",
   "metadata": {},
   "source": [
    "### Hyperparameters"
   ]
  },
  {
   "cell_type": "code",
   "execution_count": 7,
   "metadata": {},
   "outputs": [],
   "source": [
    "learning_rate = 1e-3\n",
    "batch_size = 64\n",
    "epochs = 5"
   ]
  },
  {
   "cell_type": "markdown",
   "metadata": {},
   "source": [
    "### Loss"
   ]
  },
  {
   "cell_type": "code",
   "execution_count": 8,
   "metadata": {},
   "outputs": [],
   "source": [
    "# Initialize the loss function\n",
    "loss_fn = nn.CrossEntropyLoss()"
   ]
  },
  {
   "cell_type": "markdown",
   "metadata": {},
   "source": [
    "### Optimizer"
   ]
  },
  {
   "cell_type": "code",
   "execution_count": 10,
   "metadata": {},
   "outputs": [],
   "source": [
    "optimizer = torch.optim.SGD(model.parameters(), lr=learning_rate)"
   ]
  },
  {
   "cell_type": "markdown",
   "metadata": {},
   "source": [
    "### train loop"
   ]
  },
  {
   "cell_type": "code",
   "execution_count": 11,
   "metadata": {},
   "outputs": [],
   "source": [
    "def train_loop(dataloader, model, loss_fn, optimizer):\n",
    "    size = len(dataloader.dataset)\n",
    "\n",
    "    for batch, (X, y) in enumerate(dataloader):\n",
    "        # Forward step\n",
    "        pred = model(X)\n",
    "        loss = loss_fn(pred, y)\n",
    "\n",
    "        # Backpropagation\n",
    "        optimizer.zero_grad() # reseting gradients\n",
    "        loss.backward()\n",
    "        optimizer.step() # adjust gradients\n",
    "\n",
    "        if batch % 100 == 0:\n",
    "            loss, current = loss.item(), batch*len(X)\n",
    "            print(f\"loss: {loss}  [{current} / {size}]\")"
   ]
  },
  {
   "cell_type": "code",
   "execution_count": 12,
   "metadata": {},
   "outputs": [],
   "source": [
    "def test_loop(dataloader, model, loss_fn):\n",
    "    size = len(dataloader.dataset)\n",
    "    num_batches = len(dataloader)\n",
    "    test_loss, correct = 0, 0\n",
    "\n",
    "    with torch.no_grad():\n",
    "        for X, y in dataloader:\n",
    "            pred = model(X)\n",
    "            test_loss += loss_fn(pred, y).item()\n",
    "            correct += (pred.argmax(1) ==y).type(torch.float).sum().item()\n",
    "\n",
    "    test_loss /= num_batches\n",
    "    correct /= size\n",
    "    print(f\"Test Error:\\nAccuracy: {100*correct} %, Avg loss: {test_loss}\\n\")"
   ]
  },
  {
   "cell_type": "code",
   "execution_count": 13,
   "metadata": {},
   "outputs": [
    {
     "name": "stdout",
     "output_type": "stream",
     "text": [
      "Epoch 1\n",
      "-------------------------------\n",
      "loss: 2.3149092197418213  [0 / 60000]\n",
      "loss: 2.299694299697876  [6400 / 60000]\n",
      "loss: 2.2757961750030518  [12800 / 60000]\n",
      "loss: 2.26698637008667  [19200 / 60000]\n",
      "loss: 2.2514264583587646  [25600 / 60000]\n",
      "loss: 2.2296760082244873  [32000 / 60000]\n",
      "loss: 2.23718523979187  [38400 / 60000]\n",
      "loss: 2.206199884414673  [44800 / 60000]\n",
      "loss: 2.209331750869751  [51200 / 60000]\n",
      "loss: 2.1728098392486572  [57600 / 60000]\n",
      "Test Error:\n",
      "Accuracy: 38.65 %, Avg loss: 2.164371417586211\n",
      "\n",
      "Epoch 2\n",
      "-------------------------------\n",
      "loss: 2.1809310913085938  [0 / 60000]\n",
      "loss: 2.1716196537017822  [6400 / 60000]\n",
      "loss: 2.1121816635131836  [12800 / 60000]\n",
      "loss: 2.12983775138855  [19200 / 60000]\n",
      "loss: 2.08646821975708  [25600 / 60000]\n",
      "loss: 2.027327299118042  [32000 / 60000]\n",
      "loss: 2.058231830596924  [38400 / 60000]\n",
      "loss: 1.980369210243225  [44800 / 60000]\n",
      "loss: 1.9903041124343872  [51200 / 60000]\n",
      "loss: 1.926987648010254  [57600 / 60000]\n",
      "Test Error:\n",
      "Accuracy: 51.04 %, Avg loss: 1.9140915741586382\n",
      "\n",
      "Epoch 3\n",
      "-------------------------------\n",
      "loss: 1.9443970918655396  [0 / 60000]\n",
      "loss: 1.9201565980911255  [6400 / 60000]\n",
      "loss: 1.798030138015747  [12800 / 60000]\n",
      "loss: 1.846036672592163  [19200 / 60000]\n",
      "loss: 1.7533981800079346  [25600 / 60000]\n",
      "loss: 1.6884092092514038  [32000 / 60000]\n",
      "loss: 1.7162538766860962  [38400 / 60000]\n",
      "loss: 1.611939549446106  [44800 / 60000]\n",
      "loss: 1.6403571367263794  [51200 / 60000]\n",
      "loss: 1.5456326007843018  [57600 / 60000]\n",
      "Test Error:\n",
      "Accuracy: 58.56 %, Avg loss: 1.5505440994432778\n",
      "\n",
      "Epoch 4\n",
      "-------------------------------\n",
      "loss: 1.6126432418823242  [0 / 60000]\n",
      "loss: 1.5843514204025269  [6400 / 60000]\n",
      "loss: 1.4259741306304932  [12800 / 60000]\n",
      "loss: 1.5058671236038208  [19200 / 60000]\n",
      "loss: 1.4038941860198975  [25600 / 60000]\n",
      "loss: 1.3811676502227783  [32000 / 60000]\n",
      "loss: 1.3977007865905762  [38400 / 60000]\n",
      "loss: 1.3203318119049072  [44800 / 60000]\n",
      "loss: 1.3575327396392822  [51200 / 60000]\n",
      "loss: 1.2645080089569092  [57600 / 60000]\n",
      "Test Error:\n",
      "Accuracy: 62.28 %, Avg loss: 1.2830528992756156\n",
      "\n",
      "Epoch 5\n",
      "-------------------------------\n",
      "loss: 1.3567695617675781  [0 / 60000]\n",
      "loss: 1.3449794054031372  [6400 / 60000]\n",
      "loss: 1.1727510690689087  [12800 / 60000]\n",
      "loss: 1.283170223236084  [19200 / 60000]\n",
      "loss: 1.1735801696777344  [25600 / 60000]\n",
      "loss: 1.18477201461792  [32000 / 60000]\n",
      "loss: 1.2014219760894775  [38400 / 60000]\n",
      "loss: 1.1396336555480957  [44800 / 60000]\n",
      "loss: 1.1783214807510376  [51200 / 60000]\n",
      "loss: 1.099998116493225  [57600 / 60000]\n",
      "Test Error:\n",
      "Accuracy: 64.21 %, Avg loss: 1.1158686094223313\n",
      "\n",
      "Epoch 6\n",
      "-------------------------------\n",
      "loss: 1.1844896078109741  [0 / 60000]\n",
      "loss: 1.1916364431381226  [6400 / 60000]\n",
      "loss: 1.003988265991211  [12800 / 60000]\n",
      "loss: 1.1422220468521118  [19200 / 60000]\n",
      "loss: 1.0269747972488403  [25600 / 60000]\n",
      "loss: 1.0496349334716797  [32000 / 60000]\n",
      "loss: 1.076043725013733  [38400 / 60000]\n",
      "loss: 1.0207085609436035  [44800 / 60000]\n",
      "loss: 1.0590392351150513  [51200 / 60000]\n",
      "loss: 0.9930183291435242  [57600 / 60000]\n",
      "Test Error:\n",
      "Accuracy: 65.42999999999999 %, Avg loss: 1.005143142050239\n",
      "\n",
      "Epoch 7\n",
      "-------------------------------\n",
      "loss: 1.0626147985458374  [0 / 60000]\n",
      "loss: 1.0892502069473267  [6400 / 60000]\n",
      "loss: 0.8858060836791992  [12800 / 60000]\n",
      "loss: 1.046368956565857  [19200 / 60000]\n",
      "loss: 0.9314360022544861  [25600 / 60000]\n",
      "loss: 0.9514039754867554  [32000 / 60000]\n",
      "loss: 0.9912853240966797  [38400 / 60000]\n",
      "loss: 0.9409381747245789  [44800 / 60000]\n",
      "loss: 0.9746879935264587  [51200 / 60000]\n",
      "loss: 0.9195793867111206  [57600 / 60000]\n",
      "Test Error:\n",
      "Accuracy: 66.9 %, Avg loss: 0.928279396075352\n",
      "\n",
      "Epoch 8\n",
      "-------------------------------\n",
      "loss: 0.9719651341438293  [0 / 60000]\n",
      "loss: 1.0167852640151978  [6400 / 60000]\n",
      "loss: 0.7995254993438721  [12800 / 60000]\n",
      "loss: 0.9775902032852173  [19200 / 60000]\n",
      "loss: 0.8663013577461243  [25600 / 60000]\n",
      "loss: 0.8778835535049438  [32000 / 60000]\n",
      "loss: 0.9308754205703735  [38400 / 60000]\n",
      "loss: 0.8863980770111084  [44800 / 60000]\n",
      "loss: 0.9128469228744507  [51200 / 60000]\n",
      "loss: 0.8663915991783142  [57600 / 60000]\n",
      "Test Error:\n",
      "Accuracy: 67.9 %, Avg loss: 0.872250890655882\n",
      "\n",
      "Epoch 9\n",
      "-------------------------------\n",
      "loss: 0.9015519022941589  [0 / 60000]\n",
      "loss: 0.9620391726493835  [6400 / 60000]\n",
      "loss: 0.733940064907074  [12800 / 60000]\n",
      "loss: 0.9256632328033447  [19200 / 60000]\n",
      "loss: 0.8190991282463074  [25600 / 60000]\n",
      "loss: 0.8217760324478149  [32000 / 60000]\n",
      "loss: 0.8851442337036133  [38400 / 60000]\n",
      "loss: 0.8477126955986023  [44800 / 60000]\n",
      "loss: 0.8662368655204773  [51200 / 60000]\n",
      "loss: 0.825506329536438  [57600 / 60000]\n",
      "Test Error:\n",
      "Accuracy: 69.12 %, Avg loss: 0.8295904861134329\n",
      "\n",
      "Epoch 10\n",
      "-------------------------------\n",
      "loss: 0.8451111316680908  [0 / 60000]\n",
      "loss: 0.9180307388305664  [6400 / 60000]\n",
      "loss: 0.6824563145637512  [12800 / 60000]\n",
      "loss: 0.8853369355201721  [19200 / 60000]\n",
      "loss: 0.7827439308166504  [25600 / 60000]\n",
      "loss: 0.7785759568214417  [32000 / 60000]\n",
      "loss: 0.8487086296081543  [38400 / 60000]\n",
      "loss: 0.8191815614700317  [44800 / 60000]\n",
      "loss: 0.8300771117210388  [51200 / 60000]\n",
      "loss: 0.7929544448852539  [57600 / 60000]\n",
      "Test Error:\n",
      "Accuracy: 70.52000000000001 %, Avg loss: 0.7957513013463111\n",
      "\n",
      "Done!\n"
     ]
    }
   ],
   "source": [
    "loss_fn = nn.CrossEntropyLoss()\n",
    "optimizer = torch.optim.SGD(model.parameters(), lr=learning_rate)\n",
    "\n",
    "epochs = 10\n",
    "for t in range(epochs):\n",
    "    print(f\"Epoch {t+1}\\n-------------------------------\")\n",
    "    train_loop(train_dataloader, model, loss_fn, optimizer)\n",
    "    test_loop(test_dataloader, model, loss_fn)\n",
    "print(\"Done!\")"
   ]
  },
  {
   "cell_type": "code",
   "execution_count": null,
   "metadata": {},
   "outputs": [],
   "source": []
  }
 ],
 "metadata": {
  "interpreter": {
   "hash": "cde81edf15c274bb0721111e8fc32fb5a80fe701fa2da5fabb1e915411a95d5e"
  },
  "kernelspec": {
   "display_name": "Python 3.9.7 64-bit ('env': venv)",
   "language": "python",
   "name": "python3"
  },
  "language_info": {
   "codemirror_mode": {
    "name": "ipython",
    "version": 3
   },
   "file_extension": ".py",
   "mimetype": "text/x-python",
   "name": "python",
   "nbconvert_exporter": "python",
   "pygments_lexer": "ipython3",
   "version": "3.9.7"
  },
  "orig_nbformat": 4
 },
 "nbformat": 4,
 "nbformat_minor": 2
}
