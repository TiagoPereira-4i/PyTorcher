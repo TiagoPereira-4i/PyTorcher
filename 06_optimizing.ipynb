{
 "cells": [
  {
   "cell_type": "code",
   "execution_count": 1,
   "metadata": {},
   "outputs": [],
   "source": [
    "import torch\n",
    "from torch import nn\n",
    "from torch.utils.data import DataLoader\n",
    "from torchvision import datasets\n",
    "from torchvision.transforms import ToTensor, Lambda"
   ]
  },
  {
   "cell_type": "markdown",
   "metadata": {},
   "source": [
    "### Loading the dataset"
   ]
  },
  {
   "cell_type": "code",
   "execution_count": 2,
   "metadata": {},
   "outputs": [],
   "source": [
    "training_data = datasets.FashionMNIST(\n",
    "    root=\"data/mnist\",\n",
    "    train=True,\n",
    "    download=True,\n",
    "    transform=ToTensor()\n",
    ")\n",
    "\n",
    "test_data = datasets.FashionMNIST(\n",
    "    root=\"data/mnist\",\n",
    "    train=False,\n",
    "    download=True,\n",
    "    transform=ToTensor()\n",
    ")"
   ]
  },
  {
   "cell_type": "code",
   "execution_count": 3,
   "metadata": {},
   "outputs": [],
   "source": [
    "train_dataloader = DataLoader(training_data, batch_size=64)\n",
    "test_dataloader = DataLoader(test_data, batch_size=64)"
   ]
  },
  {
   "cell_type": "markdown",
   "metadata": {},
   "source": [
    "### Creating the model class"
   ]
  },
  {
   "cell_type": "code",
   "execution_count": 4,
   "metadata": {},
   "outputs": [],
   "source": [
    "class NeuralNetwork(nn.Module):\n",
    "    def __init__(self):\n",
    "        super(NeuralNetwork, self).__init__()\n",
    "        self.flatten = nn.Flatten()\n",
    "        self.linear_relu_stack = nn.Sequential(\n",
    "            nn.Linear(28*28, 512),\n",
    "            nn.ReLU(),\n",
    "            nn.Linear(512, 512),\n",
    "            nn.ReLU(),\n",
    "            nn.Linear(512, 10),\n",
    "        )\n",
    "\n",
    "    def forward(self, x):\n",
    "        x = self.flatten(x)\n",
    "        logits = self.linear_relu_stack(x)\n",
    "        return logits"
   ]
  },
  {
   "cell_type": "markdown",
   "metadata": {},
   "source": [
    "### Calling the model"
   ]
  },
  {
   "cell_type": "code",
   "execution_count": 5,
   "metadata": {},
   "outputs": [],
   "source": [
    "model = NeuralNetwork()"
   ]
  },
  {
   "cell_type": "markdown",
   "metadata": {},
   "source": [
    "### Hyperparameters"
   ]
  },
  {
   "cell_type": "code",
   "execution_count": 6,
   "metadata": {},
   "outputs": [],
   "source": [
    "learning_rate = 1e-3\n",
    "batch_size = 64\n",
    "epochs = 5"
   ]
  },
  {
   "cell_type": "markdown",
   "metadata": {},
   "source": [
    "### Loss"
   ]
  },
  {
   "cell_type": "code",
   "execution_count": 7,
   "metadata": {},
   "outputs": [],
   "source": [
    "# Initialize the loss function\n",
    "loss_fn = nn.CrossEntropyLoss()"
   ]
  },
  {
   "cell_type": "markdown",
   "metadata": {},
   "source": [
    "### Optimizer"
   ]
  },
  {
   "cell_type": "code",
   "execution_count": 8,
   "metadata": {},
   "outputs": [],
   "source": [
    "optimizer = torch.optim.SGD(model.parameters(), lr=learning_rate)"
   ]
  },
  {
   "cell_type": "markdown",
   "metadata": {},
   "source": [
    "### train loop"
   ]
  },
  {
   "cell_type": "code",
   "execution_count": 9,
   "metadata": {},
   "outputs": [],
   "source": [
    "def train_loop(dataloader, model, loss_fn, optimizer):\n",
    "    size = len(dataloader.dataset)\n",
    "\n",
    "    for batch, (X, y) in enumerate(dataloader):\n",
    "        # Forward step\n",
    "        pred = model(X)\n",
    "        loss = loss_fn(pred, y)\n",
    "\n",
    "        # Backpropagation\n",
    "        optimizer.zero_grad() # reseting gradients\n",
    "        loss.backward()\n",
    "        optimizer.step() # adjust gradients\n",
    "\n",
    "        if batch % 100 == 0:\n",
    "            loss, current = loss.item(), batch*len(X)\n",
    "            print(f\"loss: {loss}  [{current} / {size}]\")"
   ]
  },
  {
   "cell_type": "code",
   "execution_count": 10,
   "metadata": {},
   "outputs": [],
   "source": [
    "def test_loop(dataloader, model, loss_fn):\n",
    "    size = len(dataloader.dataset)\n",
    "    num_batches = len(dataloader)\n",
    "    test_loss, correct = 0, 0\n",
    "\n",
    "    with torch.no_grad():\n",
    "        for X, y in dataloader:\n",
    "            pred = model(X)\n",
    "            test_loss += loss_fn(pred, y).item()\n",
    "            correct += (pred.argmax(1) ==y).type(torch.float).sum().item()\n",
    "\n",
    "    test_loss /= num_batches\n",
    "    correct /= size\n",
    "    print(f\"Test Error:\\nAccuracy: {100*correct} %, Avg loss: {test_loss}\\n\")"
   ]
  },
  {
   "cell_type": "code",
   "execution_count": 11,
   "metadata": {},
   "outputs": [
    {
     "name": "stdout",
     "output_type": "stream",
     "text": [
      "Epoch 1\n",
      "-------------------------------\n",
      "loss: 2.3084256649017334  [0 / 60000]\n",
      "loss: 2.2978627681732178  [6400 / 60000]\n",
      "loss: 2.2808427810668945  [12800 / 60000]\n",
      "loss: 2.274210214614868  [19200 / 60000]\n",
      "loss: 2.250694751739502  [25600 / 60000]\n",
      "loss: 2.227527379989624  [32000 / 60000]\n",
      "loss: 2.2348616123199463  [38400 / 60000]\n",
      "loss: 2.2022626399993896  [44800 / 60000]\n",
      "loss: 2.1935019493103027  [51200 / 60000]\n",
      "loss: 2.1652228832244873  [57600 / 60000]\n",
      "Test Error:\n",
      "Accuracy: 44.13 %, Avg loss: 2.163416763779464\n",
      "\n",
      "Epoch 2\n",
      "-------------------------------\n",
      "loss: 2.1722309589385986  [0 / 60000]\n",
      "loss: 2.170527219772339  [6400 / 60000]\n",
      "loss: 2.11712384223938  [12800 / 60000]\n",
      "loss: 2.1289358139038086  [19200 / 60000]\n",
      "loss: 2.079686403274536  [25600 / 60000]\n",
      "loss: 2.0222082138061523  [32000 / 60000]\n",
      "loss: 2.0443789958953857  [38400 / 60000]\n",
      "loss: 1.9697949886322021  [44800 / 60000]\n",
      "loss: 1.964730143547058  [51200 / 60000]\n",
      "loss: 1.8932952880859375  [57600 / 60000]\n",
      "Test Error:\n",
      "Accuracy: 56.81 %, Avg loss: 1.9012980893918663\n",
      "\n",
      "Epoch 3\n",
      "-------------------------------\n",
      "loss: 1.932507038116455  [0 / 60000]\n",
      "loss: 1.9122213125228882  [6400 / 60000]\n",
      "loss: 1.8028122186660767  [12800 / 60000]\n",
      "loss: 1.832111120223999  [19200 / 60000]\n",
      "loss: 1.7229588031768799  [25600 / 60000]\n",
      "loss: 1.676681399345398  [32000 / 60000]\n",
      "loss: 1.6897670030593872  [38400 / 60000]\n",
      "loss: 1.596426248550415  [44800 / 60000]\n",
      "loss: 1.6139655113220215  [51200 / 60000]\n",
      "loss: 1.504854679107666  [57600 / 60000]\n",
      "Test Error:\n",
      "Accuracy: 59.43000000000001 %, Avg loss: 1.5327429224731057\n",
      "\n",
      "Epoch 4\n",
      "-------------------------------\n",
      "loss: 1.5989006757736206  [0 / 60000]\n",
      "loss: 1.5709295272827148  [6400 / 60000]\n",
      "loss: 1.4273780584335327  [12800 / 60000]\n",
      "loss: 1.4920275211334229  [19200 / 60000]\n",
      "loss: 1.3716192245483398  [25600 / 60000]\n",
      "loss: 1.369621992111206  [32000 / 60000]\n",
      "loss: 1.3813544511795044  [38400 / 60000]\n",
      "loss: 1.305994987487793  [44800 / 60000]\n",
      "loss: 1.3376712799072266  [51200 / 60000]\n",
      "loss: 1.2376965284347534  [57600 / 60000]\n",
      "Test Error:\n",
      "Accuracy: 62.59 %, Avg loss: 1.2680644184161143\n",
      "\n",
      "Epoch 5\n",
      "-------------------------------\n",
      "loss: 1.345819354057312  [0 / 60000]\n",
      "loss: 1.3313038349151611  [6400 / 60000]\n",
      "loss: 1.17093026638031  [12800 / 60000]\n",
      "loss: 1.2717822790145874  [19200 / 60000]\n",
      "loss: 1.1436687707901  [25600 / 60000]\n",
      "loss: 1.1702157258987427  [32000 / 60000]\n",
      "loss: 1.1926313638687134  [38400 / 60000]\n",
      "loss: 1.124842643737793  [44800 / 60000]\n",
      "loss: 1.1622356176376343  [51200 / 60000]\n",
      "loss: 1.078987956047058  [57600 / 60000]\n",
      "Test Error:\n",
      "Accuracy: 64.49000000000001 %, Avg loss: 1.1018941949127585\n",
      "\n",
      "Epoch 6\n",
      "-------------------------------\n",
      "loss: 1.1727993488311768  [0 / 60000]\n",
      "loss: 1.1780815124511719  [6400 / 60000]\n",
      "loss: 1.0002918243408203  [12800 / 60000]\n",
      "loss: 1.1323330402374268  [19200 / 60000]\n",
      "loss: 0.9987649917602539  [25600 / 60000]\n",
      "loss: 1.0339908599853516  [32000 / 60000]\n",
      "loss: 1.0731749534606934  [38400 / 60000]\n",
      "loss: 1.0070910453796387  [44800 / 60000]\n",
      "loss: 1.045124888420105  [51200 / 60000]\n",
      "loss: 0.9772548675537109  [57600 / 60000]\n",
      "Test Error:\n",
      "Accuracy: 65.69 %, Avg loss: 0.9925797099520446\n",
      "\n",
      "Epoch 7\n",
      "-------------------------------\n",
      "loss: 1.0496125221252441  [0 / 60000]\n",
      "loss: 1.0766226053237915  [6400 / 60000]\n",
      "loss: 0.8815138936042786  [12800 / 60000]\n",
      "loss: 1.038002848625183  [19200 / 60000]\n",
      "loss: 0.9054948091506958  [25600 / 60000]\n",
      "loss: 0.9365771412849426  [32000 / 60000]\n",
      "loss: 0.9935798048973083  [38400 / 60000]\n",
      "loss: 0.9294244647026062  [44800 / 60000]\n",
      "loss: 0.9621886610984802  [51200 / 60000]\n",
      "loss: 0.9085610508918762  [57600 / 60000]\n",
      "Test Error:\n",
      "Accuracy: 67.04 %, Avg loss: 0.9174501933869282\n",
      "\n",
      "Epoch 8\n",
      "-------------------------------\n",
      "loss: 0.9579502940177917  [0 / 60000]\n",
      "loss: 1.0055147409439087  [6400 / 60000]\n",
      "loss: 0.795958399772644  [12800 / 60000]\n",
      "loss: 0.9707315564155579  [19200 / 60000]\n",
      "loss: 0.8428996205329895  [25600 / 60000]\n",
      "loss: 0.8645035624504089  [32000 / 60000]\n",
      "loss: 0.9373342394828796  [38400 / 60000]\n",
      "loss: 0.8771714568138123  [44800 / 60000]\n",
      "loss: 0.901488721370697  [51200 / 60000]\n",
      "loss: 0.8589305281639099  [57600 / 60000]\n",
      "Test Error:\n",
      "Accuracy: 68.36 %, Avg loss: 0.8633264265242656\n",
      "\n",
      "Epoch 9\n",
      "-------------------------------\n",
      "loss: 0.8874871134757996  [0 / 60000]\n",
      "loss: 0.952289879322052  [6400 / 60000]\n",
      "loss: 0.7319040894508362  [12800 / 60000]\n",
      "loss: 0.9206854104995728  [19200 / 60000]\n",
      "loss: 0.7984026074409485  [25600 / 60000]\n",
      "loss: 0.8100335597991943  [32000 / 60000]\n",
      "loss: 0.8947508335113525  [38400 / 60000]\n",
      "loss: 0.8405550718307495  [44800 / 60000]\n",
      "loss: 0.8559779524803162  [51200 / 60000]\n",
      "loss: 0.820931077003479  [57600 / 60000]\n",
      "Test Error:\n",
      "Accuracy: 69.64 %, Avg loss: 0.8224805863040268\n",
      "\n",
      "Epoch 10\n",
      "-------------------------------\n",
      "loss: 0.8316505551338196  [0 / 60000]\n",
      "loss: 0.9097430109977722  [6400 / 60000]\n",
      "loss: 0.6824270486831665  [12800 / 60000]\n",
      "loss: 0.8822807669639587  [19200 / 60000]\n",
      "loss: 0.7647798657417297  [25600 / 60000]\n",
      "loss: 0.768017053604126  [32000 / 60000]\n",
      "loss: 0.8602564930915833  [38400 / 60000]\n",
      "loss: 0.8134543895721436  [44800 / 60000]\n",
      "loss: 0.8205690979957581  [51200 / 60000]\n",
      "loss: 0.7904990315437317  [57600 / 60000]\n",
      "Test Error:\n",
      "Accuracy: 71.03 %, Avg loss: 0.7901697891532995\n",
      "\n",
      "Done!\n"
     ]
    }
   ],
   "source": [
    "loss_fn = nn.CrossEntropyLoss()\n",
    "optimizer = torch.optim.SGD(model.parameters(), lr=learning_rate)\n",
    "\n",
    "epochs = 10\n",
    "for t in range(epochs):\n",
    "    print(f\"Epoch {t+1}\\n-------------------------------\")\n",
    "    train_loop(train_dataloader, model, loss_fn, optimizer)\n",
    "    test_loop(test_dataloader, model, loss_fn)\n",
    "print(\"Done!\")"
   ]
  }
 ],
 "metadata": {
  "interpreter": {
   "hash": "cde81edf15c274bb0721111e8fc32fb5a80fe701fa2da5fabb1e915411a95d5e"
  },
  "kernelspec": {
   "display_name": "Python 3.9.7 64-bit ('env': venv)",
   "language": "python",
   "name": "python3"
  },
  "language_info": {
   "codemirror_mode": {
    "name": "ipython",
    "version": 3
   },
   "file_extension": ".py",
   "mimetype": "text/x-python",
   "name": "python",
   "nbconvert_exporter": "python",
   "pygments_lexer": "ipython3",
   "version": "3.9.7"
  },
  "orig_nbformat": 4
 },
 "nbformat": 4,
 "nbformat_minor": 2
}
