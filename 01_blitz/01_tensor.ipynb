{
 "cells": [
  {
   "cell_type": "markdown",
   "metadata": {},
   "source": [
    "### Quick review of tensors"
   ]
  },
  {
   "cell_type": "code",
   "execution_count": 1,
   "metadata": {},
   "outputs": [],
   "source": [
    "import torch\n",
    "import numpy as np"
   ]
  },
  {
   "cell_type": "code",
   "execution_count": 2,
   "metadata": {},
   "outputs": [
    {
     "data": {
      "text/plain": [
       "tensor([[1, 2],\n",
       "        [3, 4]])"
      ]
     },
     "execution_count": 2,
     "metadata": {},
     "output_type": "execute_result"
    }
   ],
   "source": [
    "# Creating tensor from array\n",
    "array = [[1, 2], [3 ,4]]\n",
    "tensor = torch.tensor(array)\n",
    "\n",
    "tensor"
   ]
  },
  {
   "cell_type": "code",
   "execution_count": 4,
   "metadata": {},
   "outputs": [
    {
     "data": {
      "text/plain": [
       "tensor([[1, 2],\n",
       "        [3, 5]])"
      ]
     },
     "execution_count": 4,
     "metadata": {},
     "output_type": "execute_result"
    }
   ],
   "source": [
    "# Creating from np array\n",
    "array_np = np.array([[1, 2], [3, 5]])\n",
    "tensor = torch.from_numpy(array_np)\n",
    "\n",
    "tensor"
   ]
  },
  {
   "cell_type": "code",
   "execution_count": 5,
   "metadata": {},
   "outputs": [
    {
     "data": {
      "text/plain": [
       "tensor([[1., 1.],\n",
       "        [1., 1.]])"
      ]
     },
     "execution_count": 5,
     "metadata": {},
     "output_type": "execute_result"
    }
   ],
   "source": [
    "# Copying another tensor dimensions\n",
    "ones = torch.ones_like(tensor, dtype = torch.float32)\n",
    "ones"
   ]
  },
  {
   "cell_type": "code",
   "execution_count": 8,
   "metadata": {},
   "outputs": [
    {
     "name": "stdout",
     "output_type": "stream",
     "text": [
      "rand:\n",
      "tensor([[0.2304, 0.8376, 0.1016],\n",
      "        [0.6845, 0.7533, 0.4322]])\n",
      "randn:\n",
      "tensor([[-0.7721,  0.1152, -0.9705],\n",
      "        [-0.0188,  0.0785, -1.0066]])\n"
     ]
    }
   ],
   "source": [
    "# Random array\n",
    "\n",
    "# rand -> uniform distribution [0, 1)\n",
    "rand = torch.rand(size=(2,3))\n",
    "\n",
    "# randn -> normal distribution (mean 0, std 1)\n",
    "randn = torch.randn_like(rand)\n",
    "\n",
    "print(f\"rand:\\n{rand}\")\n",
    "print(f\"randn:\\n{randn}\")"
   ]
  },
  {
   "cell_type": "code",
   "execution_count": 9,
   "metadata": {},
   "outputs": [
    {
     "name": "stdout",
     "output_type": "stream",
     "text": [
      "shape: torch.Size([2, 3])\n",
      "dtype: torch.float32\n",
      "device: cpu\n"
     ]
    }
   ],
   "source": [
    "# attributes\n",
    "print(f\"shape: {randn.shape}\")\n",
    "print(f\"dtype: {randn.dtype}\")\n",
    "print(f\"device: {randn.device}\")"
   ]
  },
  {
   "cell_type": "code",
   "execution_count": 11,
   "metadata": {},
   "outputs": [
    {
     "name": "stdout",
     "output_type": "stream",
     "text": [
      "rand:\n",
      "tensor([[0.2304, 0.0000, 0.1016],\n",
      "        [0.6845, 0.0000, 0.4322]])\n",
      "randn:\n",
      "tensor([[-0.7721,  0.1152, -0.9705],\n",
      "        [-1.0000, -1.0000, -1.0000]])\n"
     ]
    }
   ],
   "source": [
    "# modifying entire column\n",
    "rand[:,1] = 0\n",
    "\n",
    "# modifying entire row\n",
    "randn[1,:] = -1\n",
    "\n",
    "print(f\"rand:\\n{rand}\")\n",
    "print(f\"randn:\\n{randn}\")"
   ]
  },
  {
   "cell_type": "code",
   "execution_count": 12,
   "metadata": {},
   "outputs": [
    {
     "name": "stdout",
     "output_type": "stream",
     "text": [
      "cat row:\n",
      "tensor([[ 0.2304,  0.0000,  0.1016],\n",
      "        [ 0.6845,  0.0000,  0.4322],\n",
      "        [-0.7721,  0.1152, -0.9705],\n",
      "        [-1.0000, -1.0000, -1.0000]])\n",
      "cat col:\n",
      "tensor([[ 0.2304,  0.0000,  0.1016, -0.7721,  0.1152, -0.9705],\n",
      "        [ 0.6845,  0.0000,  0.4322, -1.0000, -1.0000, -1.0000]])\n"
     ]
    }
   ],
   "source": [
    "# concatenate\n",
    "cat_row = torch.cat([rand, randn], dim = 0)\n",
    "cat_col = torch.cat([rand, randn], dim = 1)\n",
    "\n",
    "print(f\"cat row:\\n{cat_row}\")\n",
    "print(f\"cat col:\\n{cat_col}\")"
   ]
  }
 ],
 "metadata": {
  "kernelspec": {
   "display_name": "Python 3.9.7 ('env': venv)",
   "language": "python",
   "name": "python3"
  },
  "language_info": {
   "codemirror_mode": {
    "name": "ipython",
    "version": 3
   },
   "file_extension": ".py",
   "mimetype": "text/x-python",
   "name": "python",
   "nbconvert_exporter": "python",
   "pygments_lexer": "ipython3",
   "version": "3.9.7"
  },
  "orig_nbformat": 4,
  "vscode": {
   "interpreter": {
    "hash": "cde81edf15c274bb0721111e8fc32fb5a80fe701fa2da5fabb1e915411a95d5e"
   }
  }
 },
 "nbformat": 4,
 "nbformat_minor": 2
}
