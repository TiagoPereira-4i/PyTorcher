{
 "cells": [
  {
   "cell_type": "code",
   "execution_count": 1,
   "metadata": {},
   "outputs": [],
   "source": [
    "# Simulating a simple NN\n",
    "import torch"
   ]
  },
  {
   "cell_type": "code",
   "execution_count": 2,
   "metadata": {},
   "outputs": [],
   "source": [
    "x = torch.ones(5)                         # input\n",
    "y = torch.zeros(3)                        # expected output\n",
    "w = torch.randn(5, 3, requires_grad=True) # weights\n",
    "b = torch.randn(3, requires_grad=True)    # bias\n",
    "# requires_grad = True -> Allow to update values\n",
    "z = torch.matmul(x, w) + b\n",
    "\n",
    "loss = torch.nn.functional.binary_cross_entropy_with_logits(z, y)"
   ]
  },
  {
   "cell_type": "code",
   "execution_count": 3,
   "metadata": {},
   "outputs": [
    {
     "name": "stdout",
     "output_type": "stream",
     "text": [
      "X = tensor([1., 1., 1., 1., 1.])\n",
      "Y = tensor([0., 0., 0.])\n",
      "W = tensor([[ 0.1816,  0.2946,  1.5805],\n",
      "        [-2.3220, -0.6610,  0.7196],\n",
      "        [-0.5478, -1.1481,  0.9482],\n",
      "        [ 0.5849, -0.2974,  0.9401],\n",
      "        [-0.9689, -0.1830,  1.7946]], requires_grad=True)\n",
      "B = tensor([-0.3410,  0.0600,  0.1393], requires_grad=True)\n",
      "Z = tensor([-3.4133, -1.9349,  6.1223], grad_fn=<AddBackward0>)\n",
      "loss = 2.0972633361816406\n"
     ]
    }
   ],
   "source": [
    "print(f\"X = {x}\")\n",
    "print(f\"Y = {y}\")\n",
    "print(f\"W = {w}\")\n",
    "print(f\"B = {b}\")\n",
    "print(f\"Z = {z}\")\n",
    "print(f\"loss = {loss}\")"
   ]
  },
  {
   "cell_type": "code",
   "execution_count": 4,
   "metadata": {},
   "outputs": [
    {
     "name": "stdout",
     "output_type": "stream",
     "text": [
      "Gradient function for z = <AddBackward0 object at 0x7efe7f4d99d0>\n",
      "Gradient function for loss = <BinaryCrossEntropyWithLogitsBackward object at 0x7efe7f4d9fd0>\n"
     ]
    }
   ],
   "source": [
    "# Checking the backprop function\n",
    "print(f\"Gradient function for z = {z.grad_fn}\")\n",
    "print(f\"Gradient function for loss = {loss.grad_fn}\")"
   ]
  },
  {
   "cell_type": "code",
   "execution_count": 6,
   "metadata": {},
   "outputs": [],
   "source": [
    "loss.backward()"
   ]
  },
  {
   "cell_type": "code",
   "execution_count": 7,
   "metadata": {},
   "outputs": [
    {
     "name": "stdout",
     "output_type": "stream",
     "text": [
      "tensor([[0.0106, 0.0421, 0.3326],\n",
      "        [0.0106, 0.0421, 0.3326],\n",
      "        [0.0106, 0.0421, 0.3326],\n",
      "        [0.0106, 0.0421, 0.3326],\n",
      "        [0.0106, 0.0421, 0.3326]])\n",
      "tensor([0.0106, 0.0421, 0.3326])\n"
     ]
    }
   ],
   "source": [
    "print(w.grad)\n",
    "print(b.grad)"
   ]
  },
  {
   "cell_type": "code",
   "execution_count": 9,
   "metadata": {},
   "outputs": [
    {
     "name": "stdout",
     "output_type": "stream",
     "text": [
      "True\n",
      "False\n",
      "False\n"
     ]
    }
   ],
   "source": [
    "# It's possible to untrack the elements from backprop\n",
    "z = torch.matmul(x, w)+b\n",
    "print(z.requires_grad)\n",
    "\n",
    "with torch.no_grad():\n",
    "    z = torch.matmul(x, w)+b\n",
    "print(z.requires_grad)\n",
    "\n",
    "# OR\n",
    "z = torch.matmul(x, w)+b\n",
    "z_det = z.detach()\n",
    "print(z_det.requires_grad)"
   ]
  },
  {
   "cell_type": "code",
   "execution_count": null,
   "metadata": {},
   "outputs": [],
   "source": []
  }
 ],
 "metadata": {
  "interpreter": {
   "hash": "cde81edf15c274bb0721111e8fc32fb5a80fe701fa2da5fabb1e915411a95d5e"
  },
  "kernelspec": {
   "display_name": "Python 3.9.7 64-bit ('env': venv)",
   "language": "python",
   "name": "python3"
  },
  "language_info": {
   "codemirror_mode": {
    "name": "ipython",
    "version": 3
   },
   "file_extension": ".py",
   "mimetype": "text/x-python",
   "name": "python",
   "nbconvert_exporter": "python",
   "pygments_lexer": "ipython3",
   "version": "3.9.7"
  },
  "orig_nbformat": 4
 },
 "nbformat": 4,
 "nbformat_minor": 2
}
