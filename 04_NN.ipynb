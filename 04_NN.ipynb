{
 "cells": [
  {
   "cell_type": "code",
   "execution_count": 7,
   "metadata": {},
   "outputs": [],
   "source": [
    "import os\n",
    "import torch\n",
    "from torch import nn\n",
    "from torch.utils.data import DataLoader\n",
    "from torchvision import datasets, transforms\n",
    "import matplotlib.pyplot as plt"
   ]
  },
  {
   "cell_type": "code",
   "execution_count": 2,
   "metadata": {},
   "outputs": [
    {
     "name": "stdout",
     "output_type": "stream",
     "text": [
      "Using cpu device\n"
     ]
    }
   ],
   "source": [
    "device = \"cuda\" if torch.cuda.is_available() else \"cpu\"\n",
    "print(f\"Using {device} device\")"
   ]
  },
  {
   "cell_type": "code",
   "execution_count": 3,
   "metadata": {},
   "outputs": [],
   "source": [
    "# Creating Class\n",
    "class NeuralNetwork(nn.Module):\n",
    "\n",
    "    def __init__ (self):\n",
    "        super(NeuralNetwork, self).__init__()\n",
    "        self.flatten = nn.Flatten() # \"Achatar\" tensor\n",
    "        self.linear_relu_stack = nn.Sequential(\n",
    "            nn.Linear(28*28, 512),\n",
    "            nn.ReLU(),\n",
    "            nn.Linear(512, 512),\n",
    "            nn.ReLU(), \n",
    "            nn.Linear(512, 10)\n",
    "        )\n",
    "\n",
    "    def forward(self, x):\n",
    "        x = self.flatten(x)\n",
    "        logits = self.linear_relu_stack(x)\n",
    "        return logits"
   ]
  },
  {
   "cell_type": "code",
   "execution_count": 4,
   "metadata": {},
   "outputs": [
    {
     "name": "stdout",
     "output_type": "stream",
     "text": [
      "NeuralNetwork(\n",
      "  (flatten): Flatten(start_dim=1, end_dim=-1)\n",
      "  (linear_relu_stack): Sequential(\n",
      "    (0): Linear(in_features=784, out_features=512, bias=True)\n",
      "    (1): ReLU()\n",
      "    (2): Linear(in_features=512, out_features=512, bias=True)\n",
      "    (3): ReLU()\n",
      "    (4): Linear(in_features=512, out_features=10, bias=True)\n",
      "  )\n",
      ")\n"
     ]
    }
   ],
   "source": [
    "model = NeuralNetwork().to(device)\n",
    "print(model)"
   ]
  },
  {
   "cell_type": "code",
   "execution_count": 5,
   "metadata": {},
   "outputs": [
    {
     "name": "stdout",
     "output_type": "stream",
     "text": [
      "Predicted class: tensor([6])\n"
     ]
    }
   ],
   "source": [
    "X = torch.rand(1, 28, 28, device = device)\n",
    "logits = model(X)\n",
    "pred_probab = nn.Softmax(dim=1)(logits)\n",
    "y_pred = pred_probab.argmax(1)\n",
    "print(f\"Predicted class: {y_pred}\")"
   ]
  },
  {
   "cell_type": "code",
   "execution_count": 13,
   "metadata": {},
   "outputs": [
    {
     "data": {
      "text/plain": [
       "<matplotlib.image.AxesImage at 0x7f20ec7475b0>"
      ]
     },
     "execution_count": 13,
     "metadata": {},
     "output_type": "execute_result"
    },
    {
     "data": {
      "image/png": "[encoded data removed]",
      "image/svg+xml": "<?xml version=\"1.0\" encoding=\"utf-8\" standalone=\"no\"?>\n<!DOCTYPE svg PUBLIC \"-//W3C//DTD SVG 1.1//EN\"\n  \"http://www.w3.org/Graphics/SVG/1.1/DTD/svg11.dtd\">\n<svg xmlns:xlink=\"http://www.w3.org/1999/xlink\" width=\"251.565pt\" height=\"248.518125pt\" viewBox=\"0 0 251.565 248.518125\" xmlns=\"http://www.w3.org/2000/svg\" version=\"1.1\">\n <metadata>\n  <rdf:RDF xmlns:dc=\"http://purl.org/dc/elements/1.1/\" xmlns:cc=\"http://creativecommons.org/ns#\" xmlns:rdf=\"http://www.w3.org/1999/02/22-rdf-syntax-ns#\">\n   <cc:Work>\n    <dc:type rdf:resource=\"http://purl.org/dc/dcmitype/StillImage\"/>\n    <dc:date>2022-08-15T14:02:40.779547</dc:date>\n    <dc:format>image/svg+xml</dc:format>\n    <dc:creator>\n     <cc:Agent>\n      <dc:title>Matplotlib v3.5.2, https://matplotlib.org/</dc:title>\n     </cc:Agent>\n    </dc:creator>\n   </cc:Work>\n  </rdf:RDF>\n </metadata>\n <defs>\n  <style type=\"text/css\">*{stroke-linejoin: round; stroke-linecap: butt}</style>\n </defs>\n <g id=\"figure_1\">\n  <g id=\"patch_1\">\n   <path d=\"M 0 248.518125 \nL 251.565 248.518125 \nL 251.565 0 \nL 0 0 \nL 0 248.518125 \nz\n\" style=\"fill: none\"/>\n  </g>\n  <g id=\"axes_1\">\n   <g id=\"patch_2\">\n    <path d=\"M 26.925 224.64 \nL 244.365 224.64 \nL 244.365 7.2 \nL 26.925 7.2 \nz\n\" style=\"fill: #ffffff\"/>\n   </g>\n   <g clip-path=\"url(#p8d6825f043)\">\n    <image xlink:href=\"data:image/png;base64,\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\" id=\"imagee35392b2e7\" transform=\"scale(1 -1)translate(0 -218)\" x=\"26.925\" y=\"-6.64\" width=\"218\" height=\"218\"/>\n   </g>\n   <g id=\"matplotlib.axis_1\">\n    <g id=\"xtick_1\">\n     <g id=\"line2d_1\">\n      <defs>\n       <path id=\"m5373363e72\" d=\"M 0 0 \nL 0 3.5 \n\" style=\"stroke: #000000; stroke-width: 0.8\"/>\n      </defs>\n      <g>\n       <use xlink:href=\"#m5373363e72\" x=\"30.807857\" y=\"224.64\" style=\"stroke: #000000; stroke-width: 0.8\"/>\n      </g>\n     </g>\n     <g id=\"text_1\">\n      <!-- 0 -->\n      <g transform=\"translate(27.626607 239.238437)scale(0.1 -0.1)\">\n       <defs>\n        <path id=\"DejaVuSans-30\" d=\"M 2034 4250 \nQ 1547 4250 1301 3770 \nQ 1056 3291 1056 2328 \nQ 1056 1369 1301 889 \nQ 1547 409 2034 409 \nQ 2525 409 2770 889 \nQ 3016 1369 3016 2328 \nQ 3016 3291 2770 3770 \nQ 2525 4250 2034 4250 \nz\nM 2034 4750 \nQ 2819 4750 3233 4129 \nQ 3647 3509 3647 2328 \nQ 3647 1150 3233 529 \nQ 2819 -91 2034 -91 \nQ 1250 -91 836 529 \nQ 422 1150 422 2328 \nQ 422 3509 836 4129 \nQ 1250 4750 2034 4750 \nz\n\" transform=\"scale(0.015625)\"/>\n       </defs>\n       <use xlink:href=\"#DejaVuSans-30\"/>\n      </g>\n     </g>\n    </g>\n    <g id=\"xtick_2\">\n     <g id=\"line2d_2\">\n      <g>\n       <use xlink:href=\"#m5373363e72\" x=\"69.636429\" y=\"224.64\" style=\"stroke: #000000; stroke-width: 0.8\"/>\n      </g>\n     </g>\n     <g id=\"text_2\">\n      <!-- 5 -->\n      <g transform=\"translate(66.455179 239.238437)scale(0.1 -0.1)\">\n       <defs>\n        <path id=\"DejaVuSans-35\" d=\"M 691 4666 \nL 3169 4666 \nL 3169 4134 \nL 1269 4134 \nL 1269 2991 \nQ 1406 3038 1543 3061 \nQ 1681 3084 1819 3084 \nQ 2600 3084 3056 2656 \nQ 3513 2228 3513 1497 \nQ 3513 744 3044 326 \nQ 2575 -91 1722 -91 \nQ 1428 -91 1123 -41 \nQ 819 9 494 109 \nL 494 744 \nQ 775 591 1075 516 \nQ 1375 441 1709 441 \nQ 2250 441 2565 725 \nQ 2881 1009 2881 1497 \nQ 2881 1984 2565 2268 \nQ 2250 2553 1709 2553 \nQ 1456 2553 1204 2497 \nQ 953 2441 691 2322 \nL 691 4666 \nz\n\" transform=\"scale(0.015625)\"/>\n       </defs>\n       <use xlink:href=\"#DejaVuSans-35\"/>\n      </g>\n     </g>\n    </g>\n    <g id=\"xtick_3\">\n     <g id=\"line2d_3\">\n      <g>\n       <use xlink:href=\"#m5373363e72\" x=\"108.465\" y=\"224.64\" style=\"stroke: #000000; stroke-width: 0.8\"/>\n      </g>\n     </g>\n     <g id=\"text_3\">\n      <!-- 10 -->\n      <g transform=\"translate(102.1025 239.238437)scale(0.1 -0.1)\">\n       <defs>\n        <path id=\"DejaVuSans-31\" d=\"M 794 531 \nL 1825 531 \nL 1825 4091 \nL 703 3866 \nL 703 4441 \nL 1819 4666 \nL 2450 4666 \nL 2450 531 \nL 3481 531 \nL 3481 0 \nL 794 0 \nL 794 531 \nz\n\" transform=\"scale(0.015625)\"/>\n       </defs>\n       <use xlink:href=\"#DejaVuSans-31\"/>\n       <use xlink:href=\"#DejaVuSans-30\" x=\"63.623047\"/>\n      </g>\n     </g>\n    </g>\n    <g id=\"xtick_4\">\n     <g id=\"line2d_4\">\n      <g>\n       <use xlink:href=\"#m5373363e72\" x=\"147.293571\" y=\"224.64\" style=\"stroke: #000000; stroke-width: 0.8\"/>\n      </g>\n     </g>\n     <g id=\"text_4\">\n      <!-- 15 -->\n      <g transform=\"translate(140.931071 239.238437)scale(0.1 -0.1)\">\n       <use xlink:href=\"#DejaVuSans-31\"/>\n       <use xlink:href=\"#DejaVuSans-35\" x=\"63.623047\"/>\n      </g>\n     </g>\n    </g>\n    <g id=\"xtick_5\">\n     <g id=\"line2d_5\">\n      <g>\n       <use xlink:href=\"#m5373363e72\" x=\"186.122143\" y=\"224.64\" style=\"stroke: #000000; stroke-width: 0.8\"/>\n      </g>\n     </g>\n     <g id=\"text_5\">\n      <!-- 20 -->\n      <g transform=\"translate(179.759643 239.238437)scale(0.1 -0.1)\">\n       <defs>\n        <path id=\"DejaVuSans-32\" d=\"M 1228 531 \nL 3431 531 \nL 3431 0 \nL 469 0 \nL 469 531 \nQ 828 903 1448 1529 \nQ 2069 2156 2228 2338 \nQ 2531 2678 2651 2914 \nQ 2772 3150 2772 3378 \nQ 2772 3750 2511 3984 \nQ 2250 4219 1831 4219 \nQ 1534 4219 1204 4116 \nQ 875 4013 500 3803 \nL 500 4441 \nQ 881 4594 1212 4672 \nQ 1544 4750 1819 4750 \nQ 2544 4750 2975 4387 \nQ 3406 4025 3406 3419 \nQ 3406 3131 3298 2873 \nQ 3191 2616 2906 2266 \nQ 2828 2175 2409 1742 \nQ 1991 1309 1228 531 \nz\n\" transform=\"scale(0.015625)\"/>\n       </defs>\n       <use xlink:href=\"#DejaVuSans-32\"/>\n       <use xlink:href=\"#DejaVuSans-30\" x=\"63.623047\"/>\n      </g>\n     </g>\n    </g>\n    <g id=\"xtick_6\">\n     <g id=\"line2d_6\">\n      <g>\n       <use xlink:href=\"#m5373363e72\" x=\"224.950714\" y=\"224.64\" style=\"stroke: #000000; stroke-width: 0.8\"/>\n      </g>\n     </g>\n     <g id=\"text_6\">\n      <!-- 25 -->\n      <g transform=\"translate(218.588214 239.238437)scale(0.1 -0.1)\">\n       <use xlink:href=\"#DejaVuSans-32\"/>\n       <use xlink:href=\"#DejaVuSans-35\" x=\"63.623047\"/>\n      </g>\n     </g>\n    </g>\n   </g>\n   <g id=\"matplotlib.axis_2\">\n    <g id=\"ytick_1\">\n     <g id=\"line2d_7\">\n      <defs>\n       <path id=\"m4ff3e170a9\" d=\"M 0 0 \nL -3.5 0 \n\" style=\"stroke: #000000; stroke-width: 0.8\"/>\n      </defs>\n      <g>\n       <use xlink:href=\"#m4ff3e170a9\" x=\"26.925\" y=\"11.082857\" style=\"stroke: #000000; stroke-width: 0.8\"/>\n      </g>\n     </g>\n     <g id=\"text_7\">\n      <!-- 0 -->\n      <g transform=\"translate(13.5625 14.882076)scale(0.1 -0.1)\">\n       <use xlink:href=\"#DejaVuSans-30\"/>\n      </g>\n     </g>\n    </g>\n    <g id=\"ytick_2\">\n     <g id=\"line2d_8\">\n      <g>\n       <use xlink:href=\"#m4ff3e170a9\" x=\"26.925\" y=\"49.911429\" style=\"stroke: #000000; stroke-width: 0.8\"/>\n      </g>\n     </g>\n     <g id=\"text_8\">\n      <!-- 5 -->\n      <g transform=\"translate(13.5625 53.710647)scale(0.1 -0.1)\">\n       <use xlink:href=\"#DejaVuSans-35\"/>\n      </g>\n     </g>\n    </g>\n    <g id=\"ytick_3\">\n     <g id=\"line2d_9\">\n      <g>\n       <use xlink:href=\"#m4ff3e170a9\" x=\"26.925\" y=\"88.74\" style=\"stroke: #000000; stroke-width: 0.8\"/>\n      </g>\n     </g>\n     <g id=\"text_9\">\n      <!-- 10 -->\n      <g transform=\"translate(7.2 92.539219)scale(0.1 -0.1)\">\n       <use xlink:href=\"#DejaVuSans-31\"/>\n       <use xlink:href=\"#DejaVuSans-30\" x=\"63.623047\"/>\n      </g>\n     </g>\n    </g>\n    <g id=\"ytick_4\">\n     <g id=\"line2d_10\">\n      <g>\n       <use xlink:href=\"#m4ff3e170a9\" x=\"26.925\" y=\"127.568571\" style=\"stroke: #000000; stroke-width: 0.8\"/>\n      </g>\n     </g>\n     <g id=\"text_10\">\n      <!-- 15 -->\n      <g transform=\"translate(7.2 131.36779)scale(0.1 -0.1)\">\n       <use xlink:href=\"#DejaVuSans-31\"/>\n       <use xlink:href=\"#DejaVuSans-35\" x=\"63.623047\"/>\n      </g>\n     </g>\n    </g>\n    <g id=\"ytick_5\">\n     <g id=\"line2d_11\">\n      <g>\n       <use xlink:href=\"#m4ff3e170a9\" x=\"26.925\" y=\"166.397143\" style=\"stroke: #000000; stroke-width: 0.8\"/>\n      </g>\n     </g>\n     <g id=\"text_11\">\n      <!-- 20 -->\n      <g transform=\"translate(7.2 170.196362)scale(0.1 -0.1)\">\n       <use xlink:href=\"#DejaVuSans-32\"/>\n       <use xlink:href=\"#DejaVuSans-30\" x=\"63.623047\"/>\n      </g>\n     </g>\n    </g>\n    <g id=\"ytick_6\">\n     <g id=\"line2d_12\">\n      <g>\n       <use xlink:href=\"#m4ff3e170a9\" x=\"26.925\" y=\"205.225714\" style=\"stroke: #000000; stroke-width: 0.8\"/>\n      </g>\n     </g>\n     <g id=\"text_12\">\n      <!-- 25 -->\n      <g transform=\"translate(7.2 209.024933)scale(0.1 -0.1)\">\n       <use xlink:href=\"#DejaVuSans-32\"/>\n       <use xlink:href=\"#DejaVuSans-35\" x=\"63.623047\"/>\n      </g>\n     </g>\n    </g>\n   </g>\n   <g id=\"patch_3\">\n    <path d=\"M 26.925 224.64 \nL 26.925 7.2 \n\" style=\"fill: none; stroke: #000000; stroke-width: 0.8; stroke-linejoin: miter; stroke-linecap: square\"/>\n   </g>\n   <g id=\"patch_4\">\n    <path d=\"M 244.365 224.64 \nL 244.365 7.2 \n\" style=\"fill: none; stroke: #000000; stroke-width: 0.8; stroke-linejoin: miter; stroke-linecap: square\"/>\n   </g>\n   <g id=\"patch_5\">\n    <path d=\"M 26.925 224.64 \nL 244.365 224.64 \n\" style=\"fill: none; stroke: #000000; stroke-width: 0.8; stroke-linejoin: miter; stroke-linecap: square\"/>\n   </g>\n   <g id=\"patch_6\">\n    <path d=\"M 26.925 7.2 \nL 244.365 7.2 \n\" style=\"fill: none; stroke: #000000; stroke-width: 0.8; stroke-linejoin: miter; stroke-linecap: square\"/>\n   </g>\n  </g>\n </g>\n <defs>\n  <clipPath id=\"p8d6825f043\">\n   <rect x=\"26.925\" y=\"7.2\" width=\"217.44\" height=\"217.44\"/>\n  </clipPath>\n </defs>\n</svg>\n",
      "text/plain": [
       "<Figure size 432x288 with 1 Axes>"
      ]
     },
     "metadata": {
      "needs_background": "light"
     },
     "output_type": "display_data"
    }
   ],
   "source": [
    "# simulating FashionMNIST sample\n",
    "input_image = torch.rand(3,28,28)\n",
    "plt.imshow(input_image[0].squeeze(), cmap = \"gray\")"
   ]
  },
  {
   "cell_type": "code",
   "execution_count": 14,
   "metadata": {},
   "outputs": [
    {
     "name": "stdout",
     "output_type": "stream",
     "text": [
      "torch.Size([3, 28, 28])\n"
     ]
    }
   ],
   "source": [
    "print(input_image.size())"
   ]
  },
  {
   "cell_type": "code",
   "execution_count": 15,
   "metadata": {},
   "outputs": [
    {
     "name": "stdout",
     "output_type": "stream",
     "text": [
      "torch.Size([3, 784])\n"
     ]
    }
   ],
   "source": [
    "flatten = nn.Flatten()\n",
    "flat_image = flatten(input_image)\n",
    "print(flat_image.size())"
   ]
  },
  {
   "cell_type": "code",
   "execution_count": 16,
   "metadata": {},
   "outputs": [
    {
     "name": "stdout",
     "output_type": "stream",
     "text": [
      "torch.Size([3, 20])\n"
     ]
    }
   ],
   "source": [
    "# linear is a linear layer\n",
    "layer1 = nn.Linear(in_features=28*28, out_features=20)\n",
    "hidden1 = layer1(flat_image)\n",
    "print(hidden1.size())"
   ]
  },
  {
   "cell_type": "code",
   "execution_count": 19,
   "metadata": {},
   "outputs": [
    {
     "name": "stdout",
     "output_type": "stream",
     "text": [
      "Before ReLU: tensor([0.0000e+00, 3.3513e-01, 0.0000e+00, 5.4630e-01, 0.0000e+00, 0.0000e+00,\n",
      "        1.5258e-01, 5.7479e-01, 0.0000e+00, 4.9201e-01, 2.1535e-04, 0.0000e+00,\n",
      "        2.8740e-01, 0.0000e+00, 5.2335e-02, 0.0000e+00, 3.2903e-01, 3.8893e-02,\n",
      "        2.9617e-01, 1.9351e-01], grad_fn=<SelectBackward>)\n",
      "After ReLU: tensor([0.0000e+00, 3.3513e-01, 0.0000e+00, 5.4630e-01, 0.0000e+00, 0.0000e+00,\n",
      "        1.5258e-01, 5.7479e-01, 0.0000e+00, 4.9201e-01, 2.1535e-04, 0.0000e+00,\n",
      "        2.8740e-01, 0.0000e+00, 5.2335e-02, 0.0000e+00, 3.2903e-01, 3.8893e-02,\n",
      "        2.9617e-01, 1.9351e-01], grad_fn=<SelectBackward>)\n"
     ]
    }
   ],
   "source": [
    "# Applying nonlinearity -> ReLU\n",
    "print(f\"Before ReLU: {hidden1[0]}\")\n",
    "hidden1 = nn.ReLU()(hidden1)\n",
    "print(f\"After ReLU: {hidden1[0]}\")"
   ]
  },
  {
   "cell_type": "code",
   "execution_count": 22,
   "metadata": {},
   "outputs": [
    {
     "name": "stdout",
     "output_type": "stream",
     "text": [
      "layer: linear_relu_stack.0.weight | size: torch.Size([512, 784]) | values: tensor([[-0.0357,  0.0141,  0.0226,  ...,  0.0267, -0.0240,  0.0314],\n",
      "        [-0.0024,  0.0190,  0.0072,  ..., -0.0034,  0.0287,  0.0210]],\n",
      "       grad_fn=<SliceBackward>)\n",
      "\n",
      "layer: linear_relu_stack.0.bias | size: torch.Size([512]) | values: tensor([ 0.0179, -0.0178], grad_fn=<SliceBackward>)\n",
      "\n",
      "layer: linear_relu_stack.2.weight | size: torch.Size([512, 512]) | values: tensor([[ 0.0249,  0.0131,  0.0234,  ...,  0.0298, -0.0284, -0.0328],\n",
      "        [ 0.0303, -0.0126,  0.0340,  ..., -0.0178, -0.0373, -0.0318]],\n",
      "       grad_fn=<SliceBackward>)\n",
      "\n",
      "layer: linear_relu_stack.2.bias | size: torch.Size([512]) | values: tensor([-0.0028, -0.0028], grad_fn=<SliceBackward>)\n",
      "\n",
      "layer: linear_relu_stack.4.weight | size: torch.Size([10, 512]) | values: tensor([[-0.0222, -0.0126, -0.0105,  ...,  0.0364,  0.0404, -0.0359],\n",
      "        [-0.0238, -0.0024,  0.0409,  ..., -0.0195,  0.0058,  0.0065]],\n",
      "       grad_fn=<SliceBackward>)\n",
      "\n",
      "layer: linear_relu_stack.4.bias | size: torch.Size([10]) | values: tensor([-0.0310,  0.0424], grad_fn=<SliceBackward>)\n",
      "\n"
     ]
    }
   ],
   "source": [
    "# Get model parameters\n",
    "for name, param in model.named_parameters():\n",
    "    print(f\"layer: {name} | size: {param.size()} | values: {param[:2]}\\n\")"
   ]
  },
  {
   "cell_type": "code",
   "execution_count": null,
   "metadata": {},
   "outputs": [],
   "source": []
  }
 ],
 "metadata": {
  "interpreter": {
   "hash": "cde81edf15c274bb0721111e8fc32fb5a80fe701fa2da5fabb1e915411a95d5e"
  },
  "kernelspec": {
   "display_name": "Python 3.9.7 64-bit ('env': venv)",
   "language": "python",
   "name": "python3"
  },
  "language_info": {
   "codemirror_mode": {
    "name": "ipython",
    "version": 3
   },
   "file_extension": ".py",
   "mimetype": "text/x-python",
   "name": "python",
   "nbconvert_exporter": "python",
   "pygments_lexer": "ipython3",
   "version": "3.9.7"
  },
  "orig_nbformat": 4
 },
 "nbformat": 4,
 "nbformat_minor": 2
}
