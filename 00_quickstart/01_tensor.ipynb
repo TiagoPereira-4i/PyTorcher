{
 "cells": [
  {
   "cell_type": "code",
   "execution_count": 1,
   "metadata": {},
   "outputs": [],
   "source": [
    "import torch\n",
    "import numpy as np"
   ]
  },
  {
   "cell_type": "markdown",
   "metadata": {},
   "source": [
    "## Creating tensors"
   ]
  },
  {
   "cell_type": "code",
   "execution_count": 2,
   "metadata": {},
   "outputs": [
    {
     "data": {
      "text/plain": [
       "tensor([[1, 2],\n",
       "        [3, 4]])"
      ]
     },
     "execution_count": 2,
     "metadata": {},
     "output_type": "execute_result"
    }
   ],
   "source": [
    "# Create tensors from list\n",
    "\n",
    "data = [[1,2],[3,4]]\n",
    "x_data = torch.tensor(data)\n",
    "x_data"
   ]
  },
  {
   "cell_type": "code",
   "execution_count": 3,
   "metadata": {},
   "outputs": [
    {
     "name": "stdout",
     "output_type": "stream",
     "text": [
      "np_array:\n",
      "[[1 2]\n",
      " [3 4]]\n",
      "tensor:\n",
      "tensor([[1, 2],\n",
      "        [3, 4]])\n"
     ]
    }
   ],
   "source": [
    "# Creating tensors from a numpy array\n",
    "\n",
    "np_array = np.array(data)\n",
    "x_np = torch.from_numpy(np_array)\n",
    "print(f\"np_array:\\n{np_array}\")\n",
    "print(f\"tensor:\\n{x_np}\")"
   ]
  },
  {
   "cell_type": "code",
   "execution_count": 4,
   "metadata": {},
   "outputs": [
    {
     "name": "stdout",
     "output_type": "stream",
     "text": [
      "Keeping properties:\n",
      "tensor([[1, 1],\n",
      "        [1, 1]])\n",
      "Overriding properties:\n",
      "tensor([[0.6855, 0.2309],\n",
      "        [0.1580, 0.8517]])\n"
     ]
    }
   ],
   "source": [
    "# Creating from another tensor \n",
    "\n",
    "## keeping the properties (shape, datatype)\n",
    "x_ones = torch.ones_like(x_data)\n",
    "\n",
    "## Overriding the data type\n",
    "x_rand = torch.rand_like(x_data, dtype = torch.float)\n",
    "\n",
    "print(f\"Keeping properties:\\n{x_ones}\")\n",
    "print(f\"Overriding properties:\\n{x_rand}\")"
   ]
  },
  {
   "cell_type": "code",
   "execution_count": 5,
   "metadata": {},
   "outputs": [
    {
     "name": "stdout",
     "output_type": "stream",
     "text": [
      "Random:\n",
      "tensor([[0.4047, 0.9926, 0.4011],\n",
      "        [0.8921, 0.0901, 0.0730]])\n",
      "Ones:\n",
      "tensor([[1, 1, 1],\n",
      "        [1, 1, 1]], dtype=torch.int32)\n",
      "Zeros:\n",
      "tensor([[0., 0., 0.],\n",
      "        [0., 0., 0.]])\n"
     ]
    }
   ],
   "source": [
    "# Creating tensors with constant or random values\n",
    "\n",
    "shape = (2,3)\n",
    "\n",
    "rand_tensor = torch.rand(shape)\n",
    "ones_tensor = torch.ones(shape, dtype=torch.int)\n",
    "zeros_tensor = torch.zeros(shape)\n",
    "\n",
    "print(f\"Random:\\n{rand_tensor}\")\n",
    "print(f\"Ones:\\n{ones_tensor}\")\n",
    "print(f\"Zeros:\\n{zeros_tensor}\")"
   ]
  },
  {
   "cell_type": "code",
   "execution_count": 6,
   "metadata": {},
   "outputs": [
    {
     "name": "stdout",
     "output_type": "stream",
     "text": [
      "Shape of tensor: torch.Size([3, 4])\n",
      "Datatype of tensor: torch.float32\n",
      "Device tensor is stored on: cpu\n"
     ]
    }
   ],
   "source": [
    "# Tensors attributes\n",
    "tensor = torch.rand(3,4)\n",
    "\n",
    "print(f\"Shape of tensor: {tensor.shape}\")\n",
    "print(f\"Datatype of tensor: {tensor.dtype}\")\n",
    "print(f\"Device tensor is stored on: {tensor.device}\")"
   ]
  },
  {
   "cell_type": "markdown",
   "metadata": {},
   "source": [
    "## Operations"
   ]
  },
  {
   "cell_type": "code",
   "execution_count": 7,
   "metadata": {},
   "outputs": [],
   "source": [
    "# Moving tensors to GPU if available\n",
    "\n",
    "if torch.cuda.is_available():\n",
    "    tensor = tensor.to(\"cuda\")"
   ]
  },
  {
   "cell_type": "code",
   "execution_count": 8,
   "metadata": {},
   "outputs": [
    {
     "name": "stdout",
     "output_type": "stream",
     "text": [
      "Tensor:\n",
      "tensor([[0.5577, 0.3993, 0.5473, 0.8559],\n",
      "        [0.9922, 0.4628, 0.1820, 0.6571],\n",
      "        [0.8470, 0.7660, 0.9721, 0.5732],\n",
      "        [0.5422, 0.3252, 0.1055, 0.3579]])\n",
      "First row: tensor([0.5577, 0.3993, 0.5473, 0.8559])\n",
      "First column: tensor([0.5577, 0.9922, 0.8470, 0.5422])\n",
      "Last column: tensor([0.8559, 0.6571, 0.5732, 0.3579])\n",
      "Element 2x2 0.46282583475112915\n"
     ]
    }
   ],
   "source": [
    "# index and slicing\n",
    "\n",
    "tensor = torch.rand(4,4)\n",
    "\n",
    "print(f\"Tensor:\\n{tensor}\")\n",
    "print(f\"First row: {tensor[0]}\")\n",
    "print(f\"First column: {tensor[...,0]}\")\n",
    "print(f\"Last column: {tensor[:, -1]}\")\n",
    "print(f\"Element 2x2 {tensor[1][1]}\")\n",
    "\n",
    "tensor[:,1] = 0"
   ]
  },
  {
   "cell_type": "code",
   "execution_count": 9,
   "metadata": {},
   "outputs": [
    {
     "name": "stdout",
     "output_type": "stream",
     "text": [
      "Columns cancat:\n",
      "tensor([[1., 1., 1., 1., 0., 0., 0., 0.],\n",
      "        [1., 1., 1., 1., 0., 0., 0., 0.],\n",
      "        [1., 1., 1., 1., 0., 0., 0., 0.],\n",
      "        [1., 1., 1., 1., 0., 0., 0., 0.]])\n",
      "Rows cancat:\n",
      "tensor([[1., 1., 1., 1.],\n",
      "        [1., 1., 1., 1.],\n",
      "        [1., 1., 1., 1.],\n",
      "        [1., 1., 1., 1.],\n",
      "        [0., 0., 0., 0.],\n",
      "        [0., 0., 0., 0.],\n",
      "        [0., 0., 0., 0.],\n",
      "        [0., 0., 0., 0.]])\n"
     ]
    }
   ],
   "source": [
    "# Concatenating tensors\n",
    "t1 = torch.ones(4,4)\n",
    "t0 = torch.zeros(4,4)\n",
    "\n",
    "column_concat = torch.cat([t1,t0], axis = 1)\n",
    "row_concat = torch.cat([t1,t0], axis = 0)\n",
    "\n",
    "print(f\"Columns cancat:\\n{column_concat}\")\n",
    "print(f\"Rows cancat:\\n{row_concat}\")"
   ]
  },
  {
   "cell_type": "code",
   "execution_count": 10,
   "metadata": {},
   "outputs": [
    {
     "name": "stdout",
     "output_type": "stream",
     "text": [
      "tensor([[19, 22],\n",
      "        [43, 50]])\n",
      "tensor([[19, 22],\n",
      "        [43, 50]])\n",
      "tensor([[19, 22],\n",
      "        [43, 50]])\n"
     ]
    }
   ],
   "source": [
    "tensor = torch.ones(4, 4)\n",
    "tensor[:,1]=0\n",
    "\n",
    "t1 = torch.tensor([[1, 2],[3,4]])\n",
    "t2 = torch.tensor([[5, 6],[7,8]])\n",
    "\n",
    "# Arithmetic operations\n",
    "# matrix multiplication (3 ways)\n",
    "y1 = t1 @ t2\n",
    "y2 = t1.matmul(t2)\n",
    "\n",
    "y3 = torch.ones_like(y1)\n",
    "torch.matmul(t1, t2, out = y3)\n",
    "\n",
    "print(y1)\n",
    "print(y2)\n",
    "print(y3)"
   ]
  },
  {
   "cell_type": "code",
   "execution_count": 11,
   "metadata": {},
   "outputs": [
    {
     "name": "stdout",
     "output_type": "stream",
     "text": [
      "tensor([[ 5, 12],\n",
      "        [21, 32]])\n",
      "tensor([[ 5, 12],\n",
      "        [21, 32]])\n",
      "tensor([[ 5, 12],\n",
      "        [21, 32]])\n"
     ]
    }
   ],
   "source": [
    "# Element-wise product (3 ways)\n",
    "z1 = t1 * t2\n",
    "z2 = t1.mul(t2)\n",
    "\n",
    "z3 = torch.ones_like(z1)\n",
    "torch.mul(t1, t2, out = z3)\n",
    "\n",
    "print(z1)\n",
    "print(z2)\n",
    "print(z3)"
   ]
  },
  {
   "cell_type": "code",
   "execution_count": 12,
   "metadata": {},
   "outputs": [
    {
     "name": "stdout",
     "output_type": "stream",
     "text": [
      "70 <class 'int'>\n"
     ]
    }
   ],
   "source": [
    "# converting 1 element tensor to numerical using 'item()' \n",
    "aggregated = z3.sum()\n",
    "aggregated_item = aggregated.item()\n",
    "\n",
    "print(aggregated_item, type(aggregated_item))"
   ]
  },
  {
   "cell_type": "code",
   "execution_count": 13,
   "metadata": {},
   "outputs": [
    {
     "name": "stdout",
     "output_type": "stream",
     "text": [
      "Tensor:\n",
      "tensor([[1, 1, 0],\n",
      "        [0, 1, 1],\n",
      "        [1, 0, 1]])\n",
      "Tensor:\n",
      "tensor([[6, 6, 5],\n",
      "        [5, 6, 6],\n",
      "        [6, 5, 6]])\n"
     ]
    }
   ],
   "source": [
    "# IN-PLACE operations -> operations that store the result of an expression into the operand. Denoted by _ suffix (add_())\n",
    "\n",
    "tensor = torch.tensor([[1, 1, 0], [0, 1, 1], [1, 0, 1]])\n",
    "print(f\"Tensor:\\n{tensor}\")\n",
    "tensor.add_(5)\n",
    "print(f\"Tensor:\\n{tensor}\")"
   ]
  },
  {
   "cell_type": "markdown",
   "metadata": {},
   "source": [
    "## Bridge to numpy"
   ]
  },
  {
   "cell_type": "code",
   "execution_count": 14,
   "metadata": {},
   "outputs": [
    {
     "name": "stdout",
     "output_type": "stream",
     "text": [
      "t:\n",
      "tensor([1., 1., 1., 1., 1.])\n",
      "n:\n",
      "[1. 1. 1. 1. 1.]\n",
      "t:\n",
      "tensor([3., 3., 3., 3., 3.])\n",
      "n:\n",
      "[3. 3. 3. 3. 3.]\n"
     ]
    }
   ],
   "source": [
    "# If a tensor is converted to numpy, all the modifications on the tensor reflect on the array\n",
    "\n",
    "t = torch.ones(5)\n",
    "n = t.numpy()\n",
    "\n",
    "print(f\"t:\\n{t}\")\n",
    "print(f\"n:\\n{n}\")\n",
    "\n",
    "t.add_(2)\n",
    "\n",
    "print(f\"t:\\n{t}\")\n",
    "print(f\"n:\\n{n}\")"
   ]
  },
  {
   "cell_type": "code",
   "execution_count": 15,
   "metadata": {},
   "outputs": [
    {
     "name": "stdout",
     "output_type": "stream",
     "text": [
      "n:\n",
      "[1. 1. 1. 1. 1.]\n",
      "t:\n",
      "tensor([1., 1., 1., 1., 1.], dtype=torch.float64)\n",
      "n:\n",
      "[2. 2. 2. 2. 2.]\n",
      "t:\n",
      "tensor([2., 2., 2., 2., 2.], dtype=torch.float64)\n"
     ]
    }
   ],
   "source": [
    "# When converting a numpy array to a tensor they also keep the same reference\n",
    "n = np.ones(5)\n",
    "t = torch.from_numpy(n)\n",
    "\n",
    "print(f\"n:\\n{n}\")\n",
    "print(f\"t:\\n{t}\")\n",
    "\n",
    "np.add(n, 1, out = n)\n",
    "print(f\"n:\\n{n}\")\n",
    "print(f\"t:\\n{t}\")"
   ]
  }
 ],
 "metadata": {
  "interpreter": {
   "hash": "cde81edf15c274bb0721111e8fc32fb5a80fe701fa2da5fabb1e915411a95d5e"
  },
  "kernelspec": {
   "display_name": "Python 3.9.7 64-bit ('env': venv)",
   "language": "python",
   "name": "python3"
  },
  "language_info": {
   "codemirror_mode": {
    "name": "ipython",
    "version": 3
   },
   "file_extension": ".py",
   "mimetype": "text/x-python",
   "name": "python",
   "nbconvert_exporter": "python",
   "pygments_lexer": "ipython3",
   "version": "3.9.7"
  },
  "orig_nbformat": 4
 },
 "nbformat": 4,
 "nbformat_minor": 2
}
